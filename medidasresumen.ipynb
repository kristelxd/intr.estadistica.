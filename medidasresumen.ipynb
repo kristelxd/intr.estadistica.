{
 "cells": [
  {
   "cell_type": "markdown",
   "id": "3af7b11f-9887-4355-bdc1-79a7c6f24a35",
   "metadata": {},
   "source": [
    "# Introducción a Estadística by M.Sc. Emerson D. Norabuena Figueroa\n",
    "- Insdustria Car - Repositorio"
   ]
  },
  {
   "cell_type": "markdown",
   "id": "6799f749-71dd-4983-98b9-a458bf716f4b",
   "metadata": {},
   "source": [
    "## 1. Acerca del conjunto de datos\n",
    "\n",
    "Contexto\n",
    "\n",
    "El conjunto de datos mtcars es empleada a fin de informar de los atributos que fijan posibles métricas para el analista de datos - junior\n",
    "Objetivo: Conocer los patrones a partir de la información recopilada para aprender y simular técnicas de análisis de datos sobre un entorno de desarrollo. \n",
    "Los atributos de esta base de datos son:\n",
    "\n",
    "1. xxxxxxxxx\n",
    "2. xxxxxxx\n",
    "3. xxxxxx\n",
    "4. xxxxx\n",
    "5. xxxxxxx\n",
    "6. xxxxx\n",
    "\n",
    "Contenido\n",
    "\n",
    "1. Load and check data\n",
    "2. Data visualization\n",
    "3. Feature Engineering\n",
    "4. Modeling Train - Test Split\n",
    "5. Standarization\n",
    "\n",
    "\n",
    "\n"
   ]
  },
  {
   "cell_type": "code",
   "execution_count": 1,
   "id": "616b1714-d6df-4e95-9889-0a161aa13e86",
   "metadata": {},
   "outputs": [],
   "source": [
    "# Importación de paquetes\n",
    "import numpy as np\n",
    "import pandas as pd\n",
    "import matplotlib.pyplot as plt\n",
    "%matplotlib inline\n",
    "\n",
    "import seaborn as sns\n",
    "from sklearn.preprocessing import LabelEncoder"
   ]
  },
  {
   "cell_type": "markdown",
   "id": "ca5b5b52-55e1-4b02-90a1-cf596cb788bb",
   "metadata": {},
   "source": [
    "1. Load and check data"
   ]
  },
  {
   "cell_type": "code",
   "execution_count": 2,
   "id": "9b2ae625-2693-472b-8eff-c29d4fbe4d3c",
   "metadata": {},
   "outputs": [],
   "source": [
    "data = pd.read_csv('https://raw.githubusercontent.com/Emerson2021/2023/main/mtcars.csv', sep=',')"
   ]
  },
  {
   "cell_type": "code",
   "execution_count": 3,
   "id": "f946b715-50e4-4434-9c5a-562e68cf66d2",
   "metadata": {},
   "outputs": [
    {
     "data": {
      "text/html": [
       "<div>\n",
       "<style scoped>\n",
       "    .dataframe tbody tr th:only-of-type {\n",
       "        vertical-align: middle;\n",
       "    }\n",
       "\n",
       "    .dataframe tbody tr th {\n",
       "        vertical-align: top;\n",
       "    }\n",
       "\n",
       "    .dataframe thead th {\n",
       "        text-align: right;\n",
       "    }\n",
       "</style>\n",
       "<table border=\"1\" class=\"dataframe\">\n",
       "  <thead>\n",
       "    <tr style=\"text-align: right;\">\n",
       "      <th></th>\n",
       "      <th>model,mpg,cyl,disp,hp,drat,wt,qsec,vs,am,gear,carb</th>\n",
       "    </tr>\n",
       "  </thead>\n",
       "  <tbody>\n",
       "    <tr>\n",
       "      <th>0</th>\n",
       "      <td>Mazda RX4,21,6,160,110,3.9,2.62,16.46,0,1,4,4</td>\n",
       "    </tr>\n",
       "    <tr>\n",
       "      <th>1</th>\n",
       "      <td>Mazda RX4 Wag,21,6,160,110,3.9,2.875,17.02,0,1...</td>\n",
       "    </tr>\n",
       "    <tr>\n",
       "      <th>2</th>\n",
       "      <td>Datsun 710,22.8,4,108,93,3.85,2.32,18.61,1,1,4,1</td>\n",
       "    </tr>\n",
       "    <tr>\n",
       "      <th>3</th>\n",
       "      <td>Hornet 4 Drive,21.4,6,258,110,3.08,3.215,19.44...</td>\n",
       "    </tr>\n",
       "    <tr>\n",
       "      <th>4</th>\n",
       "      <td>Hornet Sportabout,18.7,8,360,175,3.15,3.44,17....</td>\n",
       "    </tr>\n",
       "  </tbody>\n",
       "</table>\n",
       "</div>"
      ],
      "text/plain": [
       "  model,mpg,cyl,disp,hp,drat,wt,qsec,vs,am,gear,carb\n",
       "0      Mazda RX4,21,6,160,110,3.9,2.62,16.46,0,1,4,4\n",
       "1  Mazda RX4 Wag,21,6,160,110,3.9,2.875,17.02,0,1...\n",
       "2   Datsun 710,22.8,4,108,93,3.85,2.32,18.61,1,1,4,1\n",
       "3  Hornet 4 Drive,21.4,6,258,110,3.08,3.215,19.44...\n",
       "4  Hornet Sportabout,18.7,8,360,175,3.15,3.44,17...."
      ]
     },
     "execution_count": 3,
     "metadata": {},
     "output_type": "execute_result"
    }
   ],
   "source": [
    "data.head()"
   ]
  },
  {
   "cell_type": "code",
   "execution_count": 9,
   "id": "5843fde0-7c3c-474a-84e8-7882a7948922",
   "metadata": {},
   "outputs": [
    {
     "data": {
      "text/plain": [
       "(891, 12)"
      ]
     },
     "execution_count": 9,
     "metadata": {},
     "output_type": "execute_result"
    }
   ],
   "source": [
    "data.shape"
   ]
  },
  {
   "cell_type": "code",
   "execution_count": 10,
   "id": "4e2a9c85-dd35-4c2b-96a5-bf8bb8f1dbaa",
   "metadata": {},
   "outputs": [
    {
     "data": {
      "text/plain": [
       "<bound method DataFrame.info of      PassengerId  Survived  Pclass  \\\n",
       "0              1         0       3   \n",
       "1              2         1       1   \n",
       "2              3         1       3   \n",
       "3              4         1       1   \n",
       "4              5         0       3   \n",
       "..           ...       ...     ...   \n",
       "886          887         0       2   \n",
       "887          888         1       1   \n",
       "888          889         0       3   \n",
       "889          890         1       1   \n",
       "890          891         0       3   \n",
       "\n",
       "                                                  Name     Sex   Age  SibSp  \\\n",
       "0                              Braund, Mr. Owen Harris    male  22.0      1   \n",
       "1    Cumings, Mrs. John Bradley (Florence Briggs Th...  female  38.0      1   \n",
       "2                               Heikkinen, Miss. Laina  female  26.0      0   \n",
       "3         Futrelle, Mrs. Jacques Heath (Lily May Peel)  female  35.0      1   \n",
       "4                             Allen, Mr. William Henry    male  35.0      0   \n",
       "..                                                 ...     ...   ...    ...   \n",
       "886                              Montvila, Rev. Juozas    male  27.0      0   \n",
       "887                       Graham, Miss. Margaret Edith  female  19.0      0   \n",
       "888           Johnston, Miss. Catherine Helen \"Carrie\"  female   NaN      1   \n",
       "889                              Behr, Mr. Karl Howell    male  26.0      0   \n",
       "890                                Dooley, Mr. Patrick    male  32.0      0   \n",
       "\n",
       "     Parch            Ticket     Fare Cabin Embarked  \n",
       "0        0         A/5 21171   7.2500   NaN        S  \n",
       "1        0          PC 17599  71.2833   C85        C  \n",
       "2        0  STON/O2. 3101282   7.9250   NaN        S  \n",
       "3        0            113803  53.1000  C123        S  \n",
       "4        0            373450   8.0500   NaN        S  \n",
       "..     ...               ...      ...   ...      ...  \n",
       "886      0            211536  13.0000   NaN        S  \n",
       "887      0            112053  30.0000   B42        S  \n",
       "888      2        W./C. 6607  23.4500   NaN        S  \n",
       "889      0            111369  30.0000  C148        C  \n",
       "890      0            370376   7.7500   NaN        Q  \n",
       "\n",
       "[891 rows x 12 columns]>"
      ]
     },
     "execution_count": 10,
     "metadata": {},
     "output_type": "execute_result"
    }
   ],
   "source": [
    "data.info"
   ]
  },
  {
   "cell_type": "code",
   "execution_count": 11,
   "id": "0bb6c8c3-ec54-41a2-9859-fbaf5b7b0e80",
   "metadata": {},
   "outputs": [
    {
     "name": "stdout",
     "output_type": "stream",
     "text": [
      "0\n"
     ]
    }
   ],
   "source": [
    "print(sum(data.duplicated()))"
   ]
  },
  {
   "cell_type": "code",
   "execution_count": 12,
   "id": "a6266748-e765-47a5-a11d-80a50850e8c9",
   "metadata": {},
   "outputs": [
    {
     "name": "stdout",
     "output_type": "stream",
     "text": [
      "<class 'pandas.core.frame.DataFrame'>\n",
      "RangeIndex: 891 entries, 0 to 890\n",
      "Data columns (total 12 columns):\n",
      " #   Column       Non-Null Count  Dtype  \n",
      "---  ------       --------------  -----  \n",
      " 0   PassengerId  891 non-null    int64  \n",
      " 1   Survived     891 non-null    int64  \n",
      " 2   Pclass       891 non-null    int64  \n",
      " 3   Name         891 non-null    object \n",
      " 4   Sex          891 non-null    object \n",
      " 5   Age          714 non-null    float64\n",
      " 6   SibSp        891 non-null    int64  \n",
      " 7   Parch        891 non-null    int64  \n",
      " 8   Ticket       891 non-null    object \n",
      " 9   Fare         891 non-null    float64\n",
      " 10  Cabin        204 non-null    object \n",
      " 11  Embarked     889 non-null    object \n",
      "dtypes: float64(2), int64(5), object(5)\n",
      "memory usage: 83.7+ KB\n",
      "None\n"
     ]
    }
   ],
   "source": [
    "print(data.info())"
   ]
  },
  {
   "cell_type": "code",
   "execution_count": 14,
   "id": "427ac714-db7e-4a20-9fb6-f6cabee809cf",
   "metadata": {},
   "outputs": [
    {
     "name": "stdout",
     "output_type": "stream",
     "text": [
      "    Column Name  NA Counts\n",
      "0   PassengerId          0\n",
      "1      Survived          0\n",
      "2        Pclass          0\n",
      "3          Name          0\n",
      "4           Sex          0\n",
      "5           Age        177\n",
      "6         SibSp          0\n",
      "7         Parch          0\n",
      "8        Ticket          0\n",
      "9          Fare          0\n",
      "10        Cabin        687\n",
      "11     Embarked          2\n"
     ]
    }
   ],
   "source": [
    "na_counts = pd.DataFrame(data.isna().sum(),columns=[\"NA Counts\"]).reset_index()\n",
    "na_counts = na_counts.rename(columns={'index': 'Column Name'})\n",
    "print(na_counts)"
   ]
  }
 ],
 "metadata": {
  "kernelspec": {
   "display_name": "Python 3 (ipykernel)",
   "language": "python",
   "name": "python3"
  },
  "language_info": {
   "codemirror_mode": {
    "name": "ipython",
    "version": 3
   },
   "file_extension": ".py",
   "mimetype": "text/x-python",
   "name": "python",
   "nbconvert_exporter": "python",
   "pygments_lexer": "ipython3",
   "version": "3.11.7"
  }
 },
 "nbformat": 4,
 "nbformat_minor": 5
}
